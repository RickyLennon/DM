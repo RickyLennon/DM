{
 "cells": [
  {
   "cell_type": "code",
   "execution_count": 132,
   "id": "8ab163fb-cf62-45b3-b5fd-9604f9592f18",
   "metadata": {},
   "outputs": [
    {
     "data": {
      "text/plain": [
       "'/Users/astro/spark-3.5.2-bin-hadoop3'"
      ]
     },
     "execution_count": 132,
     "metadata": {},
     "output_type": "execute_result"
    }
   ],
   "source": [
    "import os\n",
    "import sys\n",
    "\n",
    "import findspark\n",
    "findspark.init()\n",
    "findspark.find()"
   ]
  },
  {
   "cell_type": "code",
   "execution_count": 134,
   "id": "f4546743-4006-4b05-89fd-6b6c973db755",
   "metadata": {},
   "outputs": [
    {
     "name": "stdout",
     "output_type": "stream",
     "text": [
      "El nombre de la aplicación es: Tarea 1\n"
     ]
    }
   ],
   "source": [
    "import pyspark\n",
    "from pyspark.sql import DataFrame, SparkSession, Window\n",
    "from pyspark.sql.functions import row_number, max, min, col\n",
    "from typing import List\n",
    "import pyspark.sql.types as T\n",
    "import pyspark.sql.functions as F\n",
    "\n",
    "Spark = SparkSession.builder.appName(\"Tarea 1\").getOrCreate()\n",
    "\n",
    "df = Spark.read.csv(\"ENOE.csv\", header=True, inferSchema=True)\n",
    "  \n",
    "nombre_app = Spark.sparkContext.appName\n",
    "print(f\"El nombre de la aplicación es: {nombre_app}\")"
   ]
  },
  {
   "cell_type": "code",
   "execution_count": 136,
   "id": "e80fed8e-2378-4adb-9d24-e525ac3cff75",
   "metadata": {},
   "outputs": [
    {
     "name": "stdout",
     "output_type": "stream",
     "text": [
      "root\n",
      " |-- ent: integer (nullable = true)\n",
      " |-- sex: integer (nullable = true)\n",
      " |-- eda: integer (nullable = true)\n",
      " |-- nac_mes: integer (nullable = true)\n",
      " |-- nac_anio: integer (nullable = true)\n",
      " |-- cs_p12: integer (nullable = true)\n",
      " |-- cs_p13_1: integer (nullable = true)\n",
      " |-- cs_p13_2: integer (nullable = true)\n",
      " |-- cs_p15: integer (nullable = true)\n",
      " |-- cs_p16: integer (nullable = true)\n",
      " |-- n_hij: integer (nullable = true)\n",
      " |-- e_con: integer (nullable = true)\n",
      " |-- zona: integer (nullable = true)\n",
      " |-- salario: integer (nullable = true)\n",
      " |-- clase1: integer (nullable = true)\n",
      " |-- clase2: integer (nullable = true)\n",
      " |-- rama: integer (nullable = true)\n",
      " |-- c_ocu11c: integer (nullable = true)\n",
      " |-- dur9c: integer (nullable = true)\n",
      " |-- rama_est1: integer (nullable = true)\n",
      " |-- rama_est2: integer (nullable = true)\n",
      " |-- dur_est: integer (nullable = true)\n",
      " |-- d_ant_lab: integer (nullable = true)\n",
      " |-- d_cexp_est: integer (nullable = true)\n",
      " |-- dur_des: integer (nullable = true)\n",
      " |-- niv_ins: integer (nullable = true)\n",
      " |-- anios_esc: integer (nullable = true)\n",
      " |-- hrsocup: integer (nullable = true)\n",
      " |-- ingocup: integer (nullable = true)\n",
      " |-- ing_x_hrs: double (nullable = true)\n",
      " |-- imssissste: integer (nullable = true)\n",
      " |-- scian: integer (nullable = true)\n",
      " |-- t_tra: integer (nullable = true)\n",
      " |-- emp_ppal: integer (nullable = true)\n",
      " |-- sec_ins: integer (nullable = true)\n",
      "\n"
     ]
    }
   ],
   "source": [
    "df.printSchema()"
   ]
  },
  {
   "cell_type": "code",
   "execution_count": 154,
   "id": "a65149dd-9878-4dbf-a5e5-9ab5573ae1cb",
   "metadata": {},
   "outputs": [
    {
     "name": "stderr",
     "output_type": "stream",
     "text": [
      "24/10/11 23:04:34 WARN WindowExec: No Partition Defined for Window operation! Moving all data to a single partition, this can cause serious performance degradation.\n",
      "24/10/11 23:04:34 WARN WindowExec: No Partition Defined for Window operation! Moving all data to a single partition, this can cause serious performance degradation.\n",
      "24/10/11 23:04:34 WARN WindowExec: No Partition Defined for Window operation! Moving all data to a single partition, this can cause serious performance degradation.\n"
     ]
    },
    {
     "name": "stdout",
     "output_type": "stream",
     "text": [
      "+-----+---+---+---+------+---------+-------+-------+\n",
      "|index|ent|sex|eda|clase1|anios_esc|hrsocup|ingocup|\n",
      "+-----+---+---+---+------+---------+-------+-------+\n",
      "|    1|  1|  1|  0|  NULL|     NULL|   NULL|   NULL|\n",
      "|    2|  1|  1|  0|  NULL|     NULL|   NULL|   NULL|\n",
      "|    3|  1|  1|  0|  NULL|     NULL|   NULL|   NULL|\n",
      "|    4|  1|  1|  0|  NULL|     NULL|   NULL|   NULL|\n",
      "|    5|  1|  1|  0|  NULL|     NULL|   NULL|   NULL|\n",
      "|    6|  1|  1|  0|  NULL|     NULL|   NULL|   NULL|\n",
      "|    7|  1|  1|  0|  NULL|     NULL|   NULL|   NULL|\n",
      "|    8|  1|  1|  0|  NULL|     NULL|   NULL|   NULL|\n",
      "|    9|  1|  1|  0|  NULL|     NULL|   NULL|   NULL|\n",
      "|   10|  1|  1|  0|  NULL|     NULL|   NULL|   NULL|\n",
      "|   11|  1|  1|  0|  NULL|     NULL|   NULL|   NULL|\n",
      "|   12|  1|  1|  0|  NULL|     NULL|   NULL|   NULL|\n",
      "|   13|  1|  1|  0|  NULL|     NULL|   NULL|   NULL|\n",
      "|   14|  1|  1|  0|  NULL|     NULL|   NULL|   NULL|\n",
      "|   15|  1|  1|  0|  NULL|     NULL|   NULL|   NULL|\n",
      "|   16|  1|  1|  0|  NULL|     NULL|   NULL|   NULL|\n",
      "|   17|  1|  1|  0|  NULL|     NULL|   NULL|   NULL|\n",
      "|   18|  1|  1|  0|  NULL|     NULL|   NULL|   NULL|\n",
      "|   19|  1|  1|  0|  NULL|     NULL|   NULL|   NULL|\n",
      "|   20|  1|  1|  0|  NULL|     NULL|   NULL|   NULL|\n",
      "+-----+---+---+---+------+---------+-------+-------+\n",
      "only showing top 20 rows\n",
      "\n",
      "Total individuos: 415998\n"
     ]
    }
   ],
   "source": [
    "window_spec = Window.orderBy(\"ent\")\n",
    "df_with_index = df.select(\"ent\", \"sex\", \"eda\", \"clase1\", \"anios_esc\", \"hrsocup\", \"ingocup\").withColumn(\"index\", row_number().over(window_spec))\n",
    "columns = [\"index\", \"ent\", \"sex\", \"eda\", \"clase1\", \"anios_esc\", \"hrsocup\", \"ingocup\"]\n",
    "df_with_index = df_with_index.select(columns)\n",
    "df_with_index.show()\n",
    "print(f\"Total individuos: {df_with_index.select(\"index\").count()}\")"
   ]
  },
  {
   "cell_type": "code",
   "execution_count": 156,
   "id": "20b1e98b-4999-4d71-9098-16d2140d775b",
   "metadata": {},
   "outputs": [
    {
     "name": "stderr",
     "output_type": "stream",
     "text": [
      "24/10/11 23:06:33 WARN WindowExec: No Partition Defined for Window operation! Moving all data to a single partition, this can cause serious performance degradation.\n",
      "24/10/11 23:06:33 WARN WindowExec: No Partition Defined for Window operation! Moving all data to a single partition, this can cause serious performance degradation.\n",
      "24/10/11 23:06:33 WARN WindowExec: No Partition Defined for Window operation! Moving all data to a single partition, this can cause serious performance degradation.\n",
      "24/10/11 23:06:34 WARN WindowExec: No Partition Defined for Window operation! Moving all data to a single partition, this can cause serious performance degradation.\n",
      "24/10/11 23:06:34 WARN WindowExec: No Partition Defined for Window operation! Moving all data to a single partition, this can cause serious performance degradation.\n"
     ]
    },
    {
     "name": "stdout",
     "output_type": "stream",
     "text": [
      "+------+---+---+---+------+---------+-------+-------+\n",
      "| index|ent|sex|eda|clase1|anios_esc|hrsocup|ingocup|\n",
      "+------+---+---+---+------+---------+-------+-------+\n",
      "|400000| 31|  2| 17|     2|       10|     48|   NULL|\n",
      "|400001| 31|  2| 17|     1|       10|      8|   3440|\n",
      "|400002| 31|  2| 17|     2|       10|     70|   NULL|\n",
      "|400003| 31|  2| 17|     2|       10|     48|   NULL|\n",
      "|400004| 31|  2| 17|     2|        7|   NULL|   NULL|\n",
      "|400005| 31|  2| 17|     1|       10|   NULL|   NULL|\n",
      "|400006| 31|  2| 17|     2|        9|   NULL|   NULL|\n",
      "|400007| 31|  2| 17|     2|       11|   NULL|   NULL|\n",
      "|400008| 31|  2| 17|     2|        7|     48|   NULL|\n",
      "|400009| 31|  2| 17|     2|       11|   NULL|   NULL|\n",
      "|400010| 31|  2| 17|     1|       10|     11|   NULL|\n",
      "|400011| 31|  2| 17|     2|       11|   NULL|   NULL|\n",
      "|400012| 31|  2| 17|     2|       11|      8|   NULL|\n",
      "|400013| 31|  2| 17|     1|       11|     48|    620|\n",
      "|400014| 31|  2| 17|     2|       10|     40|   NULL|\n",
      "|400015| 31|  2| 17|     2|        9|      2|   NULL|\n",
      "|400016| 31|  2| 17|     1|       10|   NULL|   NULL|\n",
      "|400017| 31|  2| 17|     2|       11|   NULL|   NULL|\n",
      "|400018| 31|  2| 17|     2|        9|     50|   NULL|\n",
      "|400019| 31|  2| 17|     2|       10|     21|   NULL|\n",
      "|400020| 31|  2| 17|     2|        6|     24|   NULL|\n",
      "+------+---+---+---+------+---------+-------+-------+\n",
      "\n"
     ]
    },
    {
     "name": "stderr",
     "output_type": "stream",
     "text": [
      "24/10/11 23:06:34 WARN WindowExec: No Partition Defined for Window operation! Moving all data to a single partition, this can cause serious performance degradation.\n",
      "24/10/11 23:06:34 WARN WindowExec: No Partition Defined for Window operation! Moving all data to a single partition, this can cause serious performance degradation.\n",
      "24/10/11 23:06:34 WARN WindowExec: No Partition Defined for Window operation! Moving all data to a single partition, this can cause serious performance degradation.\n",
      "24/10/11 23:06:34 WARN WindowExec: No Partition Defined for Window operation! Moving all data to a single partition, this can cause serious performance degradation.\n"
     ]
    },
    {
     "name": "stdout",
     "output_type": "stream",
     "text": [
      "Total individuos: 21\n"
     ]
    }
   ],
   "source": [
    "df_filtered = df_with_index.filter((df_with_index.index >= 400000) & (df_with_index.index <= 400020))\n",
    "df_filtered.show(21)\n",
    "print(f\"Total individuos: {df_filtered.select(\"index\").count()}\")"
   ]
  },
  {
   "cell_type": "code",
   "execution_count": 160,
   "id": "e2e27106-4afb-4ad7-aeb8-dcc029f939db",
   "metadata": {},
   "outputs": [
    {
     "name": "stdout",
     "output_type": "stream",
     "text": [
      "Situación hombres en CDMX\n"
     ]
    },
    {
     "name": "stderr",
     "output_type": "stream",
     "text": [
      "24/10/11 23:21:06 WARN WindowExec: No Partition Defined for Window operation! Moving all data to a single partition, this can cause serious performance degradation.\n",
      "24/10/11 23:21:06 WARN WindowExec: No Partition Defined for Window operation! Moving all data to a single partition, this can cause serious performance degradation.\n",
      "24/10/11 23:21:06 WARN WindowExec: No Partition Defined for Window operation! Moving all data to a single partition, this can cause serious performance degradation.\n",
      "24/10/11 23:21:06 WARN WindowExec: No Partition Defined for Window operation! Moving all data to a single partition, this can cause serious performance degradation.\n",
      "24/10/11 23:21:06 WARN WindowExec: No Partition Defined for Window operation! Moving all data to a single partition, this can cause serious performance degradation.\n"
     ]
    },
    {
     "name": "stdout",
     "output_type": "stream",
     "text": [
      "+------+---+---+---+------+---------+-------+-------+\n",
      "| index|ent|sex|eda|clase1|anios_esc|hrsocup|ingocup|\n",
      "+------+---+---+---+------+---------+-------+-------+\n",
      "|114075|  9|  1| 23|     1|        9|      7|   7647|\n",
      "|114134|  9|  1| 24|     1|       12|     16|   6000|\n",
      "|114279|  9|  1| 26|     1|       15|      7|  13000|\n",
      "|114296|  9|  1| 26|     1|       15|     28|   6000|\n",
      "|114297|  9|  1| 26|     1|       16|     24|   3440|\n",
      "|114356|  9|  1| 27|     1|        9|     21|   8900|\n",
      "|114364|  9|  1| 27|     1|        9|     36|   8600|\n",
      "|114398|  9|  1| 28|     1|       16|     54|  16000|\n",
      "|114425|  9|  1| 28|     1|       16|     48|  30000|\n",
      "|114443|  9|  1| 28|     1|        9|      9|   7310|\n",
      "|114460|  9|  1| 28|     1|        9|     45|  17200|\n",
      "|114466|  9|  1| 29|     1|       16|     40|   7000|\n",
      "|114468|  9|  1| 29|     1|       16|      9|  17100|\n",
      "|114471|  9|  1| 29|     1|       16|     66|   8600|\n",
      "|114472|  9|  1| 29|     1|       16|     26|  30000|\n",
      "|114506|  9|  1| 29|     1|       17|     16|  10000|\n",
      "|114518|  9|  1| 29|     1|       17|     24|  12000|\n",
      "|114529|  9|  1| 29|     1|       17|     35|  20000|\n",
      "|114574|  9|  1| 30|     1|       16|     35|  30000|\n",
      "|114580|  9|  1| 30|     1|        5|     40|  10750|\n",
      "+------+---+---+---+------+---------+-------+-------+\n",
      "only showing top 20 rows\n",
      "\n",
      "\n",
      " Estadísticas\n",
      "+-------+------------------+------------------+------------------+\n",
      "|summary|         anios_esc|           hrsocup|           ingocup|\n",
      "+-------+------------------+------------------+------------------+\n",
      "|  count|               454|               454|               454|\n",
      "|   mean|11.480176211453745|42.140969162995596|14103.601321585904|\n",
      "| stddev|3.9274102105915123|16.208014394921374|17022.221286325017|\n",
      "|    min|                 2|                 2|               860|\n",
      "|    max|                22|               112|            180000|\n",
      "+-------+------------------+------------------+------------------+\n",
      "\n",
      "Situación hombres en Nuevo León\n"
     ]
    },
    {
     "name": "stderr",
     "output_type": "stream",
     "text": [
      "24/10/11 23:21:07 WARN WindowExec: No Partition Defined for Window operation! Moving all data to a single partition, this can cause serious performance degradation.\n",
      "24/10/11 23:21:07 WARN WindowExec: No Partition Defined for Window operation! Moving all data to a single partition, this can cause serious performance degradation.\n",
      "24/10/11 23:21:07 WARN WindowExec: No Partition Defined for Window operation! Moving all data to a single partition, this can cause serious performance degradation.\n",
      "24/10/11 23:21:07 WARN WindowExec: No Partition Defined for Window operation! Moving all data to a single partition, this can cause serious performance degradation.\n",
      "24/10/11 23:21:07 WARN WindowExec: No Partition Defined for Window operation! Moving all data to a single partition, this can cause serious performance degradation.\n"
     ]
    },
    {
     "name": "stdout",
     "output_type": "stream",
     "text": [
      "+------+---+---+---+------+---------+-------+-------+\n",
      "| index|ent|sex|eda|clase1|anios_esc|hrsocup|ingocup|\n",
      "+------+---+---+---+------+---------+-------+-------+\n",
      "|240669| 19|  1| 22|     1|        9|     25|   7740|\n",
      "|240771| 19|  1| 23|     1|       16|      6|   8600|\n",
      "|240786| 19|  1| 23|     1|       12|     60|   8600|\n",
      "|240810| 19|  1| 23|     1|       12|      4|   7740|\n",
      "|240811| 19|  1| 23|     1|       10|     42|  12900|\n",
      "|240853| 19|  1| 23|     1|       13|      4|  14190|\n",
      "|240879| 19|  1| 23|     1|       12|     60|  10750|\n",
      "|240923| 19|  1| 24|     1|       10|     35|  18000|\n",
      "|240927| 19|  1| 24|     1|       12|     42|  12900|\n",
      "|240930| 19|  1| 24|     1|       17|      5|  11200|\n",
      "|240949| 19|  1| 24|     1|       11|     48|  11610|\n",
      "|240955| 19|  1| 24|     1|        9|     18|   5160|\n",
      "|240972| 19|  1| 24|     1|        9|     48|   5590|\n",
      "|241054| 19|  1| 25|     1|       17|     12|  32680|\n",
      "|241093| 19|  1| 25|     1|        9|     20|   6020|\n",
      "|241146| 19|  1| 26|     1|        9|     18|   9890|\n",
      "|241163| 19|  1| 26|     1|       17|     42|  23200|\n",
      "|241179| 19|  1| 26|     1|        9|     36|   8600|\n",
      "|241277| 19|  1| 27|     1|       17|     12|  13900|\n",
      "|241286| 19|  1| 27|     1|        9|     20|   7740|\n",
      "+------+---+---+---+------+---------+-------+-------+\n",
      "only showing top 20 rows\n",
      "\n",
      "\n",
      " Estadísticas\n",
      "+-------+------------------+------------------+------------------+\n",
      "|summary|         anios_esc|           hrsocup|           ingocup|\n",
      "+-------+------------------+------------------+------------------+\n",
      "|  count|              1085|              1085|              1085|\n",
      "|   mean|10.293087557603686| 41.22027649769585|14711.936405529954|\n",
      "| stddev|3.7432347532052206|15.847763817165475| 15245.45638908966|\n",
      "|    min|                 1|                 1|               150|\n",
      "|    max|                23|               105|            200000|\n",
      "+-------+------------------+------------------+------------------+\n",
      "\n",
      "Situación mujeres en CDMX\n"
     ]
    },
    {
     "name": "stderr",
     "output_type": "stream",
     "text": [
      "24/10/11 23:21:07 WARN WindowExec: No Partition Defined for Window operation! Moving all data to a single partition, this can cause serious performance degradation.\n",
      "24/10/11 23:21:07 WARN WindowExec: No Partition Defined for Window operation! Moving all data to a single partition, this can cause serious performance degradation.\n",
      "24/10/11 23:21:07 WARN WindowExec: No Partition Defined for Window operation! Moving all data to a single partition, this can cause serious performance degradation.\n",
      "24/10/11 23:21:07 WARN WindowExec: No Partition Defined for Window operation! Moving all data to a single partition, this can cause serious performance degradation.\n",
      "24/10/11 23:21:07 WARN WindowExec: No Partition Defined for Window operation! Moving all data to a single partition, this can cause serious performance degradation.\n"
     ]
    },
    {
     "name": "stdout",
     "output_type": "stream",
     "text": [
      "+------+---+---+---+------+---------+-------+-------+\n",
      "| index|ent|sex|eda|clase1|anios_esc|hrsocup|ingocup|\n",
      "+------+---+---+---+------+---------+-------+-------+\n",
      "|117738|  9|  2| 15|     1|        8|     46|   1032|\n",
      "|117756|  9|  2| 15|     1|        8|     25|   1290|\n",
      "|117765|  9|  2| 15|     1|        9|     24|   4300|\n",
      "|117825|  9|  2| 16|     1|        9|     70|   1935|\n",
      "|117838|  9|  2| 16|     1|        6|     55|   1935|\n",
      "|117863|  9|  2| 17|     1|        9|     40|   2150|\n",
      "|117910|  9|  2| 17|     1|        8|     40|   7740|\n",
      "|117933|  9|  2| 18|     1|       11|     35|   2580|\n",
      "|117947|  9|  2| 18|     1|       11|     48|   2580|\n",
      "|117953|  9|  2| 18|     1|       11|     46|   7740|\n",
      "|117954|  9|  2| 18|     1|       12|     50|   1720|\n",
      "|117956|  9|  2| 18|     1|        9|     54|   5160|\n",
      "|118007|  9|  2| 19|     1|        9|     30|   1032|\n",
      "|118021|  9|  2| 19|     1|       11|     48|   6880|\n",
      "|118025|  9|  2| 19|     1|        9|     40|   1720|\n",
      "|118027|  9|  2| 19|     1|       12|     40|   5160|\n",
      "|118036|  9|  2| 19|     1|       11|     32|   8200|\n",
      "|118039|  9|  2| 19|     1|       11|     48|  14000|\n",
      "|118047|  9|  2| 19|     1|       12|     36|   6450|\n",
      "|118048|  9|  2| 19|     1|       12|     45|   3655|\n",
      "+------+---+---+---+------+---------+-------+-------+\n",
      "only showing top 20 rows\n",
      "\n",
      "\n",
      " Estadísticas\n",
      "+-------+------------------+-----------------+-----------------+\n",
      "|summary|         anios_esc|          hrsocup|          ingocup|\n",
      "+-------+------------------+-----------------+-----------------+\n",
      "|  count|               603|              603|              603|\n",
      "|   mean|11.754560530679933|43.47097844112769|9410.827529021559|\n",
      "| stddev| 3.892593477912478| 16.6622816994879|9075.190629415869|\n",
      "|    min|                 1|                1|              129|\n",
      "|    max|                23|              108|            80000|\n",
      "+-------+------------------+-----------------+-----------------+\n",
      "\n",
      "Situación mujeres en Nuevo León\n"
     ]
    },
    {
     "name": "stderr",
     "output_type": "stream",
     "text": [
      "24/10/11 23:21:07 WARN WindowExec: No Partition Defined for Window operation! Moving all data to a single partition, this can cause serious performance degradation.\n",
      "24/10/11 23:21:07 WARN WindowExec: No Partition Defined for Window operation! Moving all data to a single partition, this can cause serious performance degradation.\n",
      "24/10/11 23:21:07 WARN WindowExec: No Partition Defined for Window operation! Moving all data to a single partition, this can cause serious performance degradation.\n",
      "24/10/11 23:21:07 WARN WindowExec: No Partition Defined for Window operation! Moving all data to a single partition, this can cause serious performance degradation.\n",
      "24/10/11 23:21:07 WARN WindowExec: No Partition Defined for Window operation! Moving all data to a single partition, this can cause serious performance degradation.\n"
     ]
    },
    {
     "name": "stdout",
     "output_type": "stream",
     "text": [
      "+------+---+---+---+------+---------+-------+-------+\n",
      "| index|ent|sex|eda|clase1|anios_esc|hrsocup|ingocup|\n",
      "+------+---+---+---+------+---------+-------+-------+\n",
      "|246099| 19|  2| 13|     1|        7|     42|   3870|\n",
      "|246211| 19|  2| 14|     1|        8|     40|   6450|\n",
      "|246222| 19|  2| 14|     1|        6|     48|   4300|\n",
      "|246233| 19|  2| 14|     1|        6|     48|   3225|\n",
      "|246240| 19|  2| 14|     1|        3|     54|   6450|\n",
      "|246321| 19|  2| 15|     1|        9|     40|    860|\n",
      "|246328| 19|  2| 15|     1|        9|     45|    301|\n",
      "|246358| 19|  2| 15|     1|        7|     47|   1290|\n",
      "|246383| 19|  2| 16|     1|        6|     16|  12900|\n",
      "|246411| 19|  2| 16|     1|        7|     36|   2580|\n",
      "|246443| 19|  2| 16|     1|        6|    112|   6450|\n",
      "|246463| 19|  2| 16|     1|       10|     72|   6450|\n",
      "|246470| 19|  2| 16|     1|        9|     48|   5160|\n",
      "|246496| 19|  2| 17|     1|       12|     28|   6450|\n",
      "|246498| 19|  2| 17|     1|        9|     30|   7740|\n",
      "|246501| 19|  2| 17|     1|        9|     48|   9460|\n",
      "|246513| 19|  2| 17|     1|       11|     18|   6450|\n",
      "|246522| 19|  2| 17|     1|        9|     40|   4300|\n",
      "|246524| 19|  2| 17|     1|       11|     36|    860|\n",
      "|246534| 19|  2| 17|     1|       11|     48|   4300|\n",
      "+------+---+---+---+------+---------+-------+-------+\n",
      "only showing top 20 rows\n",
      "\n",
      "\n",
      " Estadísticas\n",
      "+-------+------------------+------------------+------------------+\n",
      "|summary|         anios_esc|           hrsocup|           ingocup|\n",
      "+-------+------------------+------------------+------------------+\n",
      "|  count|              1129|              1129|              1129|\n",
      "|   mean|11.366696191319752|42.764393268379095|10124.065544729849|\n",
      "| stddev|  3.43043684758116|17.539755466278145|7083.5650740866795|\n",
      "|    min|                 2|                 1|               129|\n",
      "|    max|                22|               113|             60000|\n",
      "+-------+------------------+------------------+------------------+\n",
      "\n"
     ]
    }
   ],
   "source": [
    "print(f\"Situación hombres en CDMX\")\n",
    "df_91 = df_with_index.filter((df_with_index.ent.isin([9])) & (df_with_index.sex == 1) & (df_with_index.clase1.isNotNull()) & (df_with_index.anios_esc.isNotNull()) & (df_with_index.hrsocup.isNotNull()) & (df_with_index.ingocup.isNotNull()))\n",
    "df_91.show()\n",
    "print(f\"\\n Estadísticas\")\n",
    "df_91.describe(\"anios_esc\", \"hrsocup\", \"ingocup\").show()\n",
    "\n",
    "print(f\"Situación hombres en Nuevo León\")\n",
    "df_191 = df_with_index.filter((df_with_index.ent.isin([19])) & (df_with_index.sex == 1) & (df_with_index.clase1.isNotNull()) & (df_with_index.anios_esc.isNotNull()) & (df_with_index.hrsocup.isNotNull()) & (df_with_index.ingocup.isNotNull()))\n",
    "df_191.show()\n",
    "print(f\"\\n Estadísticas\")\n",
    "df_191.describe(\"anios_esc\", \"hrsocup\", \"ingocup\").show()\n",
    "\n",
    "print(f\"Situación mujeres en CDMX\")\n",
    "df_92 = df_with_index.filter((df_with_index.ent.isin([9])) & (df_with_index.sex == 2) & (df_with_index.clase1.isNotNull()) & (df_with_index.anios_esc.isNotNull()) & (df_with_index.hrsocup.isNotNull()) & (df_with_index.ingocup.isNotNull()))\n",
    "df_92.show()\n",
    "print(f\"\\n Estadísticas\")\n",
    "df_92.describe(\"anios_esc\", \"hrsocup\", \"ingocup\").show()\n",
    "\n",
    "print(f\"Situación mujeres en Nuevo León\")\n",
    "df_192 = df_with_index.filter((df_with_index.ent.isin([19])) & (df_with_index.sex == 2) & (df_with_index.clase1.isNotNull()) & (df_with_index.anios_esc.isNotNull()) & (df_with_index.hrsocup.isNotNull()) & (df_with_index.ingocup.isNotNull()))\n",
    "df_192.show()\n",
    "print(f\"\\n Estadísticas\")\n",
    "df_192.describe(\"anios_esc\", \"hrsocup\", \"ingocup\").show()"
   ]
  },
  {
   "cell_type": "code",
   "execution_count": null,
   "id": "ea7a2980-9fa5-45d8-9239-8f60535ec4f3",
   "metadata": {},
   "outputs": [],
   "source": []
  }
 ],
 "metadata": {
  "kernelspec": {
   "display_name": "Python 3.13 (ipykernel)",
   "language": "python",
   "name": "python3.13"
  },
  "language_info": {
   "codemirror_mode": {
    "name": "ipython",
    "version": 3
   },
   "file_extension": ".py",
   "mimetype": "text/x-python",
   "name": "python",
   "nbconvert_exporter": "python",
   "pygments_lexer": "ipython3",
   "version": "3.13.0"
  }
 },
 "nbformat": 4,
 "nbformat_minor": 5
}
